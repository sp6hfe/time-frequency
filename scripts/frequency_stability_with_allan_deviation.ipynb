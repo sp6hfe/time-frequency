{
 "cells": [
  {
   "cell_type": "code",
   "execution_count": null,
   "id": "6154701b",
   "metadata": {},
   "outputs": [],
   "source": [
    "# CONFIGURATION #\n",
    "\n",
    "dataSetFile = 'sample_hamsci_psws_data_225kHz.csv'\n",
    "dataSetFolder = 'data'\n",
    "outputFolder = 'output'"
   ]
  },
  {
   "cell_type": "code",
   "execution_count": null,
   "id": "42c9ff8e",
   "metadata": {},
   "outputs": [],
   "source": [
    "# CONSTANTS #\n",
    "\n",
    "dataSetLinesToSkip = 19"
   ]
  },
  {
   "cell_type": "code",
   "execution_count": null,
   "id": "36248e65",
   "metadata": {},
   "outputs": [],
   "source": [
    "# ALLANTOOLS INSTALLATION #\n",
    "#https://jakevdp.github.io/blog/2017/12/05/installing-python-packages-from-jupyter/\n",
    "\n",
    "import sys\n",
    "!{sys.executable} -m pip install allantools"
   ]
  },
  {
   "cell_type": "code",
   "execution_count": null,
   "id": "e058a92b",
   "metadata": {},
   "outputs": [],
   "source": [
    "# IMPORTS #\n",
    "\n",
    "from pathlib import Path\n",
    "import allantools\n",
    "from numpy import genfromtxt"
   ]
  },
  {
   "cell_type": "code",
   "execution_count": null,
   "id": "cb7a147d",
   "metadata": {},
   "outputs": [],
   "source": [
    "# CALCULATED INPUT #\n",
    "\n",
    "dataSetPath = Path.cwd().parent / dataSetFolder / dataSetFile\n",
    "resultImagePath = Path.cwd().parent / outputFolder / (dataSetFile[:-4])\n",
    "\n",
    "plotHeaderName = \"Frequency stability for data from \" + dataSetFile"
   ]
  },
  {
   "cell_type": "code",
   "execution_count": null,
   "id": "55506dd4",
   "metadata": {},
   "outputs": [],
   "source": [
    "# DATA SET LOADING #\n",
    "\n",
    "dataSet = genfromtxt(dataSetPath, delimiter=',', usecols=(1), skip_header=dataSetLinesToSkip)"
   ]
  },
  {
   "cell_type": "code",
   "execution_count": null,
   "id": "85bb0716",
   "metadata": {},
   "outputs": [],
   "source": [
    "# ALLAN VARIANCE CALCULATION #\n",
    "\n",
    "allanVarianceData = allantools.Dataset(dataSet, rate=1.0, data_type=\"freq\", taus=\"all\")\n",
    "allanVarianceData.compute(\"mdev\")"
   ]
  },
  {
   "cell_type": "code",
   "execution_count": null,
   "id": "fc144494",
   "metadata": {
    "scrolled": false
   },
   "outputs": [],
   "source": [
    "# DISPLAYING AND SAVING #\n",
    "#https://matplotlib.org/stable/api/figure_api.html#\n",
    "#https://matplotlib.org/stable/api/axes_api.html#\n",
    "#https://stackoverflow.com/questions/63074673/save-images-with-plt-savefig-but-the-images-are-all-white\n",
    "\n",
    "allanVariancePlot = allantools.Plot()\n",
    "\n",
    "allanVariancePlot.plot(allanVarianceData, errorbars=False, grid=True)\n",
    "\n",
    "allanVariancePlot.fig.set_size_inches(11, 6, True)\n",
    "allanVariancePlot.fig.suptitle(plotHeaderName)\n",
    "\n",
    "allanVariancePlot.ax.set_xlabel(\"Tau [s]\")\n",
    "allanVariancePlot.ax.set_ylabel(\"MDEV\")\n",
    "\n",
    "allanVariancePlot.save(resultImagePath)\n",
    "allanVariancePlot.show()"
   ]
  }
 ],
 "metadata": {
  "kernelspec": {
   "display_name": "Python 3 (ipykernel)",
   "language": "python",
   "name": "python3"
  },
  "language_info": {
   "codemirror_mode": {
    "name": "ipython",
    "version": 3
   },
   "file_extension": ".py",
   "mimetype": "text/x-python",
   "name": "python",
   "nbconvert_exporter": "python",
   "pygments_lexer": "ipython3",
   "version": "3.9.1"
  }
 },
 "nbformat": 4,
 "nbformat_minor": 5
}
