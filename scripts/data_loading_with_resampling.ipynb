{
 "cells": [
  {
   "attachments": {},
   "cell_type": "markdown",
   "metadata": {},
   "source": [
    "### Assumptions for all CSV files making a data set:  \n",
    "* files consist of 1-day measurements with `1[s]` resolution (starting earliest at `00:00:00`, ending `23:59:59` latest),\n",
    "* values should be `comma separated`,\n",
    "* files share the same name prefix (i.e. `analysis`),\n",
    "* file names end with a 6-digit DATE indicating day of measurements using `YYMMDD` format (i.e. `230517` for 2023-05-17),\n",
    "* file name consist of a `prefix` followed by the `date` with `.csv` extension at the end (i.e. `analysis230517.csv`),\n",
    "* comment lines start with a `#` sign,\n",
    "* file should include a header row containing column names,\n",
    "* column with measurement timestamp should be in a datetime UTC format (i.e. `2023-05-17T01:15:27Z`),\n",
    "* column with frequency measurement value should be a float number expressed in [Hz] (i.e. `224999.865`).\n"
   ]
  },
  {
   "cell_type": "code",
   "execution_count": null,
   "metadata": {},
   "outputs": [],
   "source": [
    "# INPUTS #\n",
    "\n",
    "data_filename_prefix = 'analysis'\n",
    "data_time_column_name = 'UTC'\n",
    "data_frequency_column_name = 'Freq'\n",
    "\n",
    "data_folder = 'data'\n",
    "output_folder = 'output'"
   ]
  },
  {
   "cell_type": "code",
   "execution_count": null,
   "metadata": {},
   "outputs": [],
   "source": [
    "# ADDITIONAL MODULES AND DEPENDENCIES INSTALLATION #\n",
    "\n",
    "!{sys.executable} -m pip install pandas"
   ]
  },
  {
   "cell_type": "code",
   "execution_count": null,
   "metadata": {},
   "outputs": [],
   "source": [
    "# IMPORTS #\n",
    "\n",
    "from datetime import datetime\n",
    "from pathlib import Path\n",
    "import pandas as pd"
   ]
  },
  {
   "cell_type": "code",
   "execution_count": null,
   "metadata": {},
   "outputs": [],
   "source": [
    "# CSV FILE LIST CREATION #\n",
    "\n",
    "data_filename_suffix = '[0-9][0-9][0-9][0-9][0-9][0-9].csv'\n",
    "data_set_file_paths = sorted(Path(Path.cwd().parent / data_folder).glob(data_filename_prefix + data_filename_suffix))\n",
    "\n",
    "print(\"Data set is made of \" + str(len(data_set_file_paths)) + \" files.\")"
   ]
  },
  {
   "cell_type": "code",
   "execution_count": null,
   "metadata": {},
   "outputs": [],
   "source": [
    "# LIST OF DATE-PATH TUPLES CREATION #\n",
    "\n",
    "date_path = []\n",
    "for path in data_set_file_paths:\n",
    "    file_name = Path(path).name\n",
    "    date_str = file_name[-10:-4]\n",
    "    date = datetime.strptime(date_str, '%y%m%d')\n",
    "    date_path.append((date, path))"
   ]
  },
  {
   "cell_type": "code",
   "execution_count": null,
   "metadata": {},
   "outputs": [],
   "source": [
    "# LOAD ITERATIVELY THE DATA FROM CSV FILES \"\n",
    "\n",
    "data = pd.DataFrame(columns=[data_time_column_name, data_frequency_column_name])\n",
    "\n",
    "for _, path in date_path:\n",
    "    new_data = pd.read_csv(path, comment='#', usecols=[data_time_column_name, data_frequency_column_name], parse_dates=[data_time_column_name], dtype={data_frequency_column_name: float})\n",
    "    data = pd.concat([data, new_data], axis=0)\n",
    "\n",
    "data.set_index(data_time_column_name, inplace=True)\n",
    "data_amount = len(data.index)\n",
    "\n",
    "print(\"CSV files provided \" + str(data_amount) + \" records for the dates range: \" + str(data.index.min()) + \" - \" + str(data.index.max()))"
   ]
  },
  {
   "cell_type": "code",
   "execution_count": null,
   "metadata": {},
   "outputs": [],
   "source": [
    "# RESAMPLE DATAPOINTS TO 1[s] INTERVAL #\n",
    "\n",
    "resampled_data = data.resample('1S').interpolate()\n",
    "start_time = data.index[0]\n",
    "end_time = data.index[-1]\n",
    "data_points_times = pd.date_range(start_time, end_time, freq='1S')\n",
    "resampled_data = resampled_data.reindex(data_points_times)\n",
    "resampled_data_amount = len(resampled_data.index)\n",
    "\n",
    "print(\"Loaded data was resampled (just in case) to 1[s] and all the gaps in measurements were filled using interpolation.\")\n",
    "print(\"Ended up with \" + str(resampled_data_amount) + \" records (\" + str(resampled_data_amount - data_amount) + \" more).\")\n",
    "\n"
   ]
  },
  {
   "cell_type": "code",
   "execution_count": null,
   "metadata": {},
   "outputs": [],
   "source": [
    "#https://gist.github.com/salticus/a462912dfff90c9bded954c48f916f64\n",
    "#https://docs.python.org/3/library/glob.html"
   ]
  }
 ],
 "metadata": {
  "kernelspec": {
   "display_name": "Python 3",
   "language": "python",
   "name": "python3"
  },
  "language_info": {
   "codemirror_mode": {
    "name": "ipython",
    "version": 3
   },
   "file_extension": ".py",
   "mimetype": "text/x-python",
   "name": "python",
   "nbconvert_exporter": "python",
   "pygments_lexer": "ipython3",
   "version": "3.9.13"
  },
  "orig_nbformat": 4,
  "vscode": {
   "interpreter": {
    "hash": "31bda736cc3a2b74657268fa5d3ad0c209626371abb9b0a361130e2a69d8dcd6"
   }
  }
 },
 "nbformat": 4,
 "nbformat_minor": 2
}
